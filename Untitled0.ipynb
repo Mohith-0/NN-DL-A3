{
  "nbformat": 4,
  "nbformat_minor": 0,
  "metadata": {
    "colab": {
      "provenance": [],
      "authorship_tag": "ABX9TyM85Kmqj699DrwITtlqZ2xk",
      "include_colab_link": true
    },
    "kernelspec": {
      "name": "python3",
      "display_name": "Python 3"
    },
    "language_info": {
      "name": "python"
    }
  },
  "cells": [
    {
      "cell_type": "markdown",
      "metadata": {
        "id": "view-in-github",
        "colab_type": "text"
      },
      "source": [
        "<a href=\"https://colab.research.google.com/github/Mohith-0/NN-DL-A3/blob/main/Untitled0.ipynb\" target=\"_parent\"><img src=\"https://colab.research.google.com/assets/colab-badge.svg\" alt=\"Open In Colab\"/></a>"
      ]
    },
    {
      "cell_type": "code",
      "execution_count": 1,
      "metadata": {
        "colab": {
          "base_uri": "https://localhost:8080/"
        },
        "id": "X5u_tX1xFsnH",
        "outputId": "14fb5abe-25e6-4a8b-cbaa-f12b94cda753"
      },
      "outputs": [
        {
          "output_type": "stream",
          "name": "stdout",
          "text": [
            "Total Employees: 4\n",
            "Average Salary: 60000.0\n"
          ]
        }
      ],
      "source": [
        "#Employee Class\n",
        "class Employee:\n",
        "    num_of_employees = 0\n",
        "\n",
        "    #initializing the attributes\n",
        "    def __init__(self, name, family, salary, department):\n",
        "        self.name = name\n",
        "        self.family = family\n",
        "        self.salary = salary\n",
        "        self.department = department\n",
        "        Employee.num_of_employees += 1\n",
        "\n",
        "    #Average Salary Method\n",
        "    def averageSalary(self, employees):\n",
        "        total_salary = sum(emp.salary for emp in employees)\n",
        "        return total_salary / len(employees)\n",
        "#Full Time Employee Class - Super Class\n",
        "class FulltimeEmployee(Employee):\n",
        "    def __init__(self, name, family, salary, department, employment_type):\n",
        "        super().__init__(name, family, salary, department)\n",
        "        self.employment_type = employment_type\n",
        "\n",
        "# Instances of Employee class\n",
        "employee1 = Employee(\"Swathi\", \"Kothi\", 50000, \"Senior Software\")\n",
        "employee2 = Employee(\"Ashwini\", \"Alakuntla\", 80000, \"Manager\")\n",
        "\n",
        "# Instances of FulltimeEmployee class\n",
        "fulltime1 = FulltimeEmployee(\"Aishwarya\", \"Tagili\", 50000, \"Engineering\", \"FullTime\")\n",
        "fulltime2 = FulltimeEmployee(\"Sofeen\", \"Firdouse\", 60000, \"Marketing\", \"PartTime\")\n",
        "\n",
        "# Call member functions\n",
        "employees = [employee1, employee2, fulltime1, fulltime2]\n",
        "avgSalary = employee1.averageSalary(employees)\n",
        "\n",
        "print(\"Total Employees:\", Employee.num_of_employees)\n",
        "print(\"Average Salary:\", avgSalary)"
      ]
    },
    {
      "cell_type": "code",
      "source": [
        "import numpy as np\n",
        "#generating a vector\n",
        "vector = np.random.uniform(1, 20, 20)\n",
        "\n",
        "#reshaping the vector into 4 * 5 matrix\n",
        "matrix = vector.reshape(4, 5)\n",
        "\n",
        "print(\"Original Matrix: \\n\",matrix)\n",
        "\n",
        "#finding the index of the max element along axis = 1\n",
        "indices = np.argmax(matrix, axis=1)\n",
        "\n",
        "#Create a range of indices for each row\n",
        "row_indices = np.arange(matrix.shape[0])\n",
        "\n",
        "#Use advanced indexing to replace max values with 0\n",
        "matrix[row_indices, indices] = 0\n",
        "\n",
        "print(\"Resultant Matrix: \\n\",matrix)"
      ],
      "metadata": {
        "colab": {
          "base_uri": "https://localhost:8080/"
        },
        "id": "kL2e2SdsHmKI",
        "outputId": "eef6faa9-4a4b-493d-e9dd-c75547fa5291"
      },
      "execution_count": 2,
      "outputs": [
        {
          "output_type": "stream",
          "name": "stdout",
          "text": [
            "Original Matrix: \n",
            " [[12.57682769  2.07867166  1.18611179  5.97152092 17.68690712]\n",
            " [13.84239936  2.16605028 15.46358597  1.41737335  1.64717678]\n",
            " [ 6.25363739 11.55772368 14.15535606  9.15730888  6.81356493]\n",
            " [ 7.56519633  7.41711625 10.63373847 13.63387515  1.75012448]]\n",
            "Resultant Matrix: \n",
            " [[12.57682769  2.07867166  1.18611179  5.97152092  0.        ]\n",
            " [13.84239936  2.16605028  0.          1.41737335  1.64717678]\n",
            " [ 6.25363739 11.55772368  0.          9.15730888  6.81356493]\n",
            " [ 7.56519633  7.41711625 10.63373847  0.          1.75012448]]\n"
          ]
        }
      ]
    }
  ]
}